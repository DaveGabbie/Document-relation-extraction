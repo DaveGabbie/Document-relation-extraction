{
 "cells": [
  {
   "cell_type": "code",
   "execution_count": 15,
   "id": "79b7689b",
   "metadata": {},
   "outputs": [],
   "source": [
    "import pickle\n",
    "import numpy as np\n",
    "import os\n",
    "import csv\n",
    "from sklearn.metrics import f1_score\n",
    "from sklearn.neighbors import KNeighborsClassifier\n",
    "from sklearn.metrics import accuracy_score\n",
    "from sklearn.metrics import f1_score\n",
    "from sklearn.metrics import precision_score\n",
    "from sklearn.metrics import recall_score"
   ]
  },
  {
   "cell_type": "code",
   "execution_count": 16,
   "id": "d14e7e00",
   "metadata": {},
   "outputs": [],
   "source": [
    "#读取 pickle.load(file)\n",
    "pic1 = open('train2embedding.txt','rb')\n",
    "train2data = pickle.load(pic1)"
   ]
  },
  {
   "cell_type": "code",
   "execution_count": 17,
   "id": "b5368f9d",
   "metadata": {},
   "outputs": [],
   "source": [
    "pic2 = open('train2label.txt','rb')\n",
    "train2label = pickle.load(pic2)"
   ]
  },
  {
   "cell_type": "code",
   "execution_count": 18,
   "id": "6b30f9be",
   "metadata": {},
   "outputs": [],
   "source": [
    "\n",
    "emb_text2 = np.array(train2data)\n",
    "emb_label2 = np.array(train2label)"
   ]
  },
  {
   "cell_type": "code",
   "execution_count": 19,
   "id": "0fea99dd",
   "metadata": {},
   "outputs": [],
   "source": [
    "pic3 = open('test2embedding.txt','rb')\n",
    "testdata = pickle.load(pic3)"
   ]
  },
  {
   "cell_type": "code",
   "execution_count": 20,
   "id": "22000c4c",
   "metadata": {},
   "outputs": [],
   "source": [
    "pic4 = open('test2label.txt','rb')\n",
    "testlabel = pickle.load(pic4)"
   ]
  },
  {
   "cell_type": "code",
   "execution_count": 21,
   "id": "93874c0a",
   "metadata": {},
   "outputs": [],
   "source": [
    "emb_testtext = np.array(testdata)\n",
    "emb_testlabel = np.array(testlabel)"
   ]
  },
  {
   "cell_type": "code",
   "execution_count": 22,
   "id": "5fd8002b",
   "metadata": {},
   "outputs": [],
   "source": [
    "def f1(y_true, y_pred):\n",
    "    assert y_pred.size == y_true.size\n",
    "    f1_macro = f1_score(y_true, y_pred, average='macro')\n",
    "    precision = precision_score(y_true, y_pred, average='macro')\n",
    "    recall = recall_score(y_true, y_pred, average='macro')\n",
    "    return f1_macro, precision,recall\n",
    "\n",
    "\n",
    "def classify(train, train_label, test, test_label, k=2):\n",
    "    print(f\"Using KNN, k = {k}\")\n",
    "    #neigh = KNeighborsClassifier(n_neighbors=k, metric=\"euclidean\", n_jobs=20)\n",
    "    neigh = KNeighborsClassifier(n_neighbors=k, metric=\"minkowski\", p=2, n_jobs=20)\n",
    "    neigh.fit(train, train_label)\n",
    "    y_pred = neigh.predict(test)\n",
    "    f1_macro, precision,recall = f1(test_label, y_pred)\n",
    "    print(f\"F1 macro: {f1_macro}, Precision: {precision}, Recall: {recall}\")"
   ]
  },
  {
   "cell_type": "code",
   "execution_count": 23,
   "id": "43d1fb4e",
   "metadata": {},
   "outputs": [
    {
     "name": "stdout",
     "output_type": "stream",
     "text": [
      "Using KNN, k = 2\n",
      "F1 macro: 0.48763761658265675, Precision: 0.5268703702924145, Recall: 0.5082800871886252\n"
     ]
    }
   ],
   "source": [
    "classify(emb_text2, emb_label2, emb_testtext, emb_testlabel, k=2)"
   ]
  },
  {
   "cell_type": "code",
   "execution_count": 17,
   "id": "eb6fc996",
   "metadata": {},
   "outputs": [],
   "source": [
    "from sklearn.neighbors import NeighborhoodComponentsAnalysis"
   ]
  },
  {
   "cell_type": "code",
   "execution_count": 76,
   "id": "7d15a993",
   "metadata": {},
   "outputs": [
    {
     "data": {
      "text/plain": [
       "NeighborhoodComponentsAnalysis(init='pca', random_state=42)"
      ]
     },
     "execution_count": 76,
     "metadata": {},
     "output_type": "execute_result"
    }
   ],
   "source": [
    "nca = NeighborhoodComponentsAnalysis(random_state=42,init='pca')\n",
    "nca.fit(emb_text, emb_label)"
   ]
  },
  {
   "cell_type": "code",
   "execution_count": 77,
   "id": "c590677c",
   "metadata": {},
   "outputs": [
    {
     "name": "stdout",
     "output_type": "stream",
     "text": [
      "0.8394079555966697\n"
     ]
    }
   ],
   "source": [
    "knn = KNeighborsClassifier(n_neighbors=9)\n",
    "knn.fit(emb_text, emb_label)\n",
    "\n",
    "print(knn.score(emb_testtext, emb_testlabel))"
   ]
  },
  {
   "cell_type": "code",
   "execution_count": 78,
   "id": "d53f43c5",
   "metadata": {},
   "outputs": [
    {
     "name": "stdout",
     "output_type": "stream",
     "text": [
      "0.8386679000925069\n"
     ]
    }
   ],
   "source": [
    "knn.fit(nca.transform(emb_text), emb_label)\n",
    "\n",
    "print(knn.score(nca.transform(emb_testtext), emb_testlabel))"
   ]
  },
  {
   "cell_type": "code",
   "execution_count": 45,
   "id": "412a1157",
   "metadata": {},
   "outputs": [
    {
     "name": "stdout",
     "output_type": "stream",
     "text": [
      "Using KNN, k = 9\n",
      "F1 macro: 0.715126626399644, Precision: 0.7530470413266916, Recall: 0.6933442571346663\n"
     ]
    }
   ],
   "source": [
    "classify(nca.transform(emb_text), emb_label, nca.transform(emb_testtext), emb_testlabel, k=9)"
   ]
  }
 ],
 "metadata": {
  "kernelspec": {
   "display_name": "Python 3 (ipykernel)",
   "language": "python",
   "name": "python3"
  },
  "language_info": {
   "codemirror_mode": {
    "name": "ipython",
    "version": 3
   },
   "file_extension": ".py",
   "mimetype": "text/x-python",
   "name": "python",
   "nbconvert_exporter": "python",
   "pygments_lexer": "ipython3",
   "version": "3.8.10"
  }
 },
 "nbformat": 4,
 "nbformat_minor": 5
}
